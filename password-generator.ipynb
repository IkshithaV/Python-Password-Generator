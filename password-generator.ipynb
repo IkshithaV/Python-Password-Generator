{
  "nbformat": 4,
  "nbformat_minor": 0,
  "metadata": {
    "colab": {
      "provenance": [],
      "authorship_tag": "ABX9TyPJWwTJlQ5GOijWPpdMf4ET",
      "include_colab_link": true
    },
    "kernelspec": {
      "name": "python3",
      "display_name": "Python 3"
    },
    "language_info": {
      "name": "python"
    }
  },
  "cells": [
    {
      "cell_type": "markdown",
      "metadata": {
        "id": "view-in-github",
        "colab_type": "text"
      },
      "source": [
        "<a href=\"https://colab.research.google.com/github/IkshithaV/Python-Password-Generator/blob/main/password-generator.ipynb\" target=\"_parent\"><img src=\"https://colab.research.google.com/assets/colab-badge.svg\" alt=\"Open In Colab\"/></a>"
      ]
    },
    {
      "cell_type": "code",
      "execution_count": 1,
      "metadata": {
        "id": "VhsxHrHX9hrD"
      },
      "outputs": [],
      "source": [
        "# Importing random module\n",
        "import random\n",
        "\n",
        "# Function to replace some characters with numbers\n",
        "def replaceWithNumber(pword):\n",
        "    for i in range(random.randrange(1, 3)):\n",
        "        replace_index = random.randrange(len(pword)//2)\n",
        "        pword = pword[0:replace_index] + str(random.randrange(10)) + pword[replace_index+1:]\n",
        "        return pword\n",
        "\n",
        "# Function to replace some characters with uppercase letters\n",
        "def replaceWithUppercaseLetter(pword):\n",
        "    for i in range(random.randrange(1, 3)):\n",
        "        replace_index = random.randrange(len(pword)//2, len(pword))\n",
        "        pword = pword[0:replace_index] + pword[replace_index].upper() + pword[replace_index+1:]\n",
        "        return pword\n"
      ]
    },
    {
      "cell_type": "code",
      "source": [
        "# Function to generate passwords\n",
        "def generatePassword(pwlength):\n",
        "\n",
        "    alphabet = \"abcdefghijklmnopqrstuvwxyz\"\n",
        "    passwords = []\n",
        "\n",
        "    for i in pwlength:\n",
        "        password = \"\"\n",
        "        for j in range(i):\n",
        "            next_letter_index = random.randrange(len(alphabet))\n",
        "            password = password + alphabet[next_letter_index]\n",
        "\n",
        "        password = replaceWithNumber(password)\n",
        "        password = replaceWithUppercaseLetter(password)\n",
        "\n",
        "        passwords.append(password)\n",
        "\n",
        "    return passwords\n"
      ],
      "metadata": {
        "id": "L8cIqi-_9nAv"
      },
      "execution_count": 2,
      "outputs": []
    },
    {
      "cell_type": "code",
      "source": [
        "# Main function to take input and print passwords\n",
        "def main():\n",
        "    numPasswords = int(input(\"How many passwords do you want to generate? \"))\n",
        "\n",
        "    print(\"\\nGenerating \" + str(numPasswords) + \" passwords...\\n\")\n",
        "    print(\"Minimum length of password should be 3\\n\")\n",
        "\n",
        "    passwordLengths = []\n",
        "\n",
        "    for i in range(numPasswords):\n",
        "        length = int(input(\"Enter the length of Password #\" + str(i+1) + \": \"))\n",
        "        if length < 3:\n",
        "            length = 3\n",
        "        passwordLengths.append(length)\n",
        "\n",
        "    passwords = generatePassword(passwordLengths)\n",
        "\n",
        "    for i in range(numPasswords):\n",
        "        print(\"Password #\" + str(i+1) + \" = \" + passwords[i])\n"
      ],
      "metadata": {
        "id": "g7Yq36SE9qpu"
      },
      "execution_count": 3,
      "outputs": []
    },
    {
      "cell_type": "code",
      "source": [
        "# Run the program\n",
        "main()\n"
      ],
      "metadata": {
        "colab": {
          "base_uri": "https://localhost:8080/"
        },
        "id": "tuFHA6uh9rrJ",
        "outputId": "c13b4643-e143-415a-fb68-adedb1f9b57e"
      },
      "execution_count": 4,
      "outputs": [
        {
          "output_type": "stream",
          "name": "stdout",
          "text": [
            "How many passwords do you want to generate? 3\n",
            "\n",
            "Generating 3 passwords...\n",
            "\n",
            "Minimum length of password should be 3\n",
            "\n",
            "Enter the length of Password #1: 8\n",
            "Enter the length of Password #2: 7\n",
            "Enter the length of Password #3: 9\n",
            "Password #1 = 4bctgePi\n",
            "Password #2 = y3rglCo\n",
            "Password #3 = war2Ivmdi\n"
          ]
        }
      ]
    }
  ]
}